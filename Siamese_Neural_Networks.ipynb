{
 "cells": [
  {
   "cell_type": "markdown",
   "metadata": {},
   "source": [
    "# Importing Libs..."
   ]
  },
  {
   "cell_type": "code",
   "execution_count": 178,
   "metadata": {},
   "outputs": [],
   "source": [
    "import cv2\n",
    "import os\n",
    "import random\n",
    "import numpy as np\n",
    "from matplotlib import pyplot as plt\n",
    "import tensorflow as tf\n",
    "# import uuid\n",
    "from tensorflow.keras.metrics import Precision, Recall\n",
    "from tensorflow.keras.models import Model\n",
    "from tensorflow.keras.layers import Layer,Conv2D,Dense,MaxPooling2D,Input,Flatten"
   ]
  },
  {
   "cell_type": "code",
   "execution_count": 110,
   "metadata": {},
   "outputs": [],
   "source": [
    "# Model(inputs=[inputimage,verification], outputs= [1,0])"
   ]
  },
  {
   "cell_type": "code",
   "execution_count": 111,
   "metadata": {},
   "outputs": [],
   "source": [
    "# Input(shape=)"
   ]
  },
  {
   "cell_type": "code",
   "execution_count": 112,
   "metadata": {},
   "outputs": [],
   "source": [
    "# class L1Dist(Layer)"
   ]
  },
  {
   "cell_type": "markdown",
   "metadata": {},
   "source": [
    "### GPU"
   ]
  },
  {
   "cell_type": "code",
   "execution_count": 113,
   "metadata": {},
   "outputs": [],
   "source": [
    "# ''' To limit GPU '''\n",
    "# gpus = tf.config.experimental.list_physical_devices('GPU')\n",
    "# for gpu in gpus:\n",
    "#     tf.config.experimental.set_memory_growth(gpu, True)"
   ]
  },
  {
   "cell_type": "markdown",
   "metadata": {},
   "source": [
    "# Folder Structures"
   ]
  },
  {
   "cell_type": "code",
   "execution_count": 114,
   "metadata": {},
   "outputs": [],
   "source": [
    "# # Setting path\n",
    "# POS_PATH = os. path.join('data', 'positive')\n",
    "# NEG_PATH = os. path.join('data', 'negative')\n",
    "# ANC_PATH = os. path.join('data', 'anchor')"
   ]
  },
  {
   "cell_type": "code",
   "execution_count": 115,
   "metadata": {},
   "outputs": [],
   "source": [
    "# # making those folders\n",
    "# os.makedirs(NEG_PATH)\n",
    "# os.makedirs(POS_PATH)\n",
    "# os.makedirs(ANC_PATH)"
   ]
  },
  {
   "cell_type": "markdown",
   "metadata": {},
   "source": [
    "# Collecting Data"
   ]
  },
  {
   "cell_type": "code",
   "execution_count": 116,
   "metadata": {},
   "outputs": [],
   "source": [
    "# !tar -xf lfw.tgz # Uncompressing tar GZ Lablled Facxes in Wild Dataset\n",
    "\n",
    "# for i in os.listdir('lfw'):\n",
    "#     for j in os.listdir(os.path.join('lfw', i)):\n",
    "#         EX_PATH = os.path.join('lfw', i, j)\n",
    "#         NEW_PATH = os.path.join(NEG_PATH, j)\n",
    "#         os.replace(EX_PATH, NEW_PATH)"
   ]
  },
  {
   "cell_type": "markdown",
   "metadata": {},
   "source": [
    "#### Collecting Positive Anchor Classes"
   ]
  },
  {
   "cell_type": "code",
   "execution_count": 117,
   "metadata": {},
   "outputs": [],
   "source": [
    "# ANC_PATH"
   ]
  },
  {
   "cell_type": "code",
   "execution_count": 118,
   "metadata": {},
   "outputs": [],
   "source": [
    "# # name = str(input(\"Enter Name :: \"))\n",
    "# name  = name.capitalize()\n",
    "# # ANC_PATH = \"Training/\"+ name +\"/anchor\"\n",
    "# ANC_PATH=\"application_data/input_data\"\n",
    "# POS_PATH = \"Training/\" + name + \"/positive\"\n",
    "# name = name +'_'\n",
    "# cap = cv2.VideoCapture(0)\n",
    "# j = 0\n",
    "# k = 0\n",
    "# while cap.isOpened():\n",
    "#     ret,fram = cap.read()\n",
    "#     fram = fram[235:235+250,515:250+515]\n",
    "#     cv2.imshow('Image Collection',fram)\n",
    "#     if cv2.waitKey(1) & 0XFF == ord('a'):\n",
    "#         # Create the unique file path\n",
    "#         i = str(j)\n",
    "#         # name_anc = name + i\n",
    "#         name_anc = \"input_image\"\n",
    "#         imgname = os.path.join (ANC_PATH, '{}.jpg'.format(name_anc))\n",
    "#         j = j + 1\n",
    "#         # Write out anchor image\n",
    "#         cv2.imwrite(imgname, fram)\n",
    "    \n",
    "#     # elif cv2.waitKey(1) & 0XFF == ord('p'):\n",
    "#     #     # Create the unique file path\n",
    "#     #     # k = 0\n",
    "#     #     p = str(k)\n",
    "#     #     name_pos = name + p\n",
    "#     #     imgname = os. path.join (POS_PATH, '{}.jpg'.format(name_pos))\n",
    "#     #     k = k + 1\n",
    "#     #     # Write out Positiv image\n",
    "#     #     cv2.imwrite(imgname, fram)\n",
    "            \n",
    "#     elif cv2.waitKey(1) & 0XFF == ord('q'):\n",
    "#         break\n",
    "    \n",
    "#     # else:\n",
    "#     #     break\n",
    "# cap.release()\n",
    "# cv2.destroyAllWindows()"
   ]
  },
  {
   "cell_type": "code",
   "execution_count": 119,
   "metadata": {},
   "outputs": [],
   "source": [
    "# fram"
   ]
  },
  {
   "cell_type": "markdown",
   "metadata": {},
   "source": [
    "# Makernova task"
   ]
  },
  {
   "cell_type": "code",
   "execution_count": 120,
   "metadata": {},
   "outputs": [],
   "source": [
    "# import numpy as np\n",
    "# import cv2\n",
    "# row = 8\n",
    "# col = 8\n",
    "# sq_s = 100\n",
    "# img_width = col * sq_s\n",
    "# img_height = row * sq_s\n",
    "# chessboard_img = np.zeros((img_height, img_width, 3), dtype=np.uint8)\n",
    "# for i in range(row):\n",
    "#     for j in range(col):\n",
    "#         x1, y1 = j * sq_s, i * sq_s\n",
    "#         x2, y2 = (j + 1) * sq_s, (i + 1) * sq_s\n",
    "#         if (i + j) % 2 == 0:\n",
    "#             color = (255, 255, 255)\n",
    "#         else:\n",
    "#             color = (0, 0, 0)\n",
    "#         cv2.rectangle(chessboard_img, (x1, y1), (x2, y2), color, -1)\n",
    "# cv2.imshow(\"Chessboard\", chessboard_img)\n",
    "# cv2.waitKey(10000)\n",
    "# cv2.destroyAllWindows()"
   ]
  },
  {
   "cell_type": "markdown",
   "metadata": {},
   "source": [
    "# Load and Preprocessing Image"
   ]
  },
  {
   "cell_type": "code",
   "execution_count": 121,
   "metadata": {},
   "outputs": [],
   "source": [
    "# anchor = tf.data.Dataset.list_files(ANC_PATH+'/*.jpg').take(300)\n",
    "# positive = tf.data.Dataset.list_files(POS_PATH+'/*.jpg').take(300)\n",
    "# negative = tf.data.Dataset.list_files(NEG_PATH+'/*.jpg').take(300)"
   ]
  },
  {
   "cell_type": "code",
   "execution_count": 179,
   "metadata": {},
   "outputs": [],
   "source": [
    "def preprocess (file_path):\n",
    "    byte_img= tf.io.read_file(file_path) # read\n",
    "    img = tf.io.decode_jpeg(byte_img)   # Loading image\n",
    "    img= tf.image.resize(img,(100,100))\n",
    "    img = img/255 # scaling image (normalising)\n",
    "    return img"
   ]
  },
  {
   "cell_type": "markdown",
   "metadata": {},
   "source": [
    "## Creating Labelled Dataset"
   ]
  },
  {
   "cell_type": "code",
   "execution_count": 123,
   "metadata": {},
   "outputs": [],
   "source": [
    "# Anchor, Positive => 1,1,1,1,1\n",
    "# Anchor, Negative => 0,0,0,0,0"
   ]
  },
  {
   "cell_type": "code",
   "execution_count": 124,
   "metadata": {},
   "outputs": [],
   "source": [
    "# file name change\n",
    "# folder_path = \"Training/Bhumi/positive\"  # Relative path to the folder\n",
    "# file_names = os.listdir(folder_path)\n",
    "# for file_name in file_names:\n",
    "#     old_path = os.path.join(folder_path, file_name)\n",
    "#     file_name_without_extension, file_extension = os.path.splitext(file_name)\n",
    "#     new_file_name = file_name_without_extension + \"_p\" + file_extension\n",
    "#     new_path = os.path.join(folder_path, new_file_name)\n",
    "#     os.rename(old_path, new_path)\n",
    "#     print(f\"Renamed: {file_name} -> {new_file_name}\")\n",
    "\n",
    "# print(\"All files renamed.\")\n"
   ]
  },
  {
   "cell_type": "code",
   "execution_count": 125,
   "metadata": {},
   "outputs": [],
   "source": [
    "# name  = 'Dev'\n",
    "# \"Training/\"+ name +\"/anchor\""
   ]
  },
  {
   "cell_type": "code",
   "execution_count": 180,
   "metadata": {},
   "outputs": [],
   "source": [
    "# name = str(input(\"Enter Name :: \")+'_')\n",
    "# name  = capitalize(name)\n",
    "# # ANC_PATH = \"/Users/DEVDESAI1/Desktop/Projects/Face_Recognision/Training/\" + name + \"/anchor\"\n",
    "# # POS_PATH = \"/Users/DEVDESAI1/Desktop/Projects/Face_Recognision/Training/\" + name + \"/positive\"\n",
    "count = 0\n",
    "names=['Chirag','Dev','Bhumi']\n",
    "for name in names:\n",
    "    ANC_PATH = \"Training/\"+ name +\"/anchor\"\n",
    "    POS_PATH = \"Training/\" + name + \"/positive\"\n",
    "    NEG_PATH = \"Training/\" + name + \"/negative\"\n",
    "    anchor = tf.data.Dataset.list_files(ANC_PATH+'/*.jpg').take(300)\n",
    "    positive = tf.data.Dataset.list_files(POS_PATH+'/*.jpg').take(300)\n",
    "    negative = tf.data.Dataset.list_files(NEG_PATH+'/*.jpg').take(300)\n",
    "    positives = tf.data.Dataset.zip((anchor,positive,tf.data.Dataset.from_tensor_slices(tf.ones(len(anchor)))))\n",
    "    negatives = tf.data.Dataset.zip((anchor,negative,tf.data.Dataset.from_tensor_slices(tf.zeros(len(anchor)))))\n",
    "    if count == 1:\n",
    "        data = data.concatenate(negatives)\n",
    "        data = data.concatenate(positives)\n",
    "    elif count == 0:\n",
    "        data = positives.concatenate(negatives)\n",
    "        count = 1"
   ]
  },
  {
   "cell_type": "code",
   "execution_count": 127,
   "metadata": {},
   "outputs": [],
   "source": [
    "# samples = data.as_numpy_iterator()"
   ]
  },
  {
   "cell_type": "code",
   "execution_count": 128,
   "metadata": {},
   "outputs": [],
   "source": [
    "# for i in range(1000):\n",
    "#     print(samples.next())"
   ]
  },
  {
   "cell_type": "code",
   "execution_count": 129,
   "metadata": {},
   "outputs": [],
   "source": [
    "def preprocess_twin(input_img,validation_img,label):\n",
    "    return(preprocess(input_img),preprocess(validation_img),label)"
   ]
  },
  {
   "cell_type": "code",
   "execution_count": 130,
   "metadata": {},
   "outputs": [],
   "source": [
    "# 0->anchor, 1->+ve or -ve, 2->lable\n",
    "data = data.map(preprocess_twin)\n",
    "data = data.cache()\n",
    "data = data.shuffle(buffer_size=1024)"
   ]
  },
  {
   "cell_type": "code",
   "execution_count": 131,
   "metadata": {},
   "outputs": [],
   "source": [
    "# len(data)*.7\n",
    "# (1260)/(420/16)"
   ]
  },
  {
   "cell_type": "code",
   "execution_count": 132,
   "metadata": {},
   "outputs": [],
   "source": [
    "train_data = data.take(round(len(data)*.7))\n",
    "train_data = train_data.batch(16)\n",
    "train_data = train_data.prefetch(8)"
   ]
  },
  {
   "cell_type": "code",
   "execution_count": 133,
   "metadata": {},
   "outputs": [],
   "source": [
    "test_data = data.skip(round(len(data)*0.7))\n",
    "test_data = test_data.take(round(len(data)*0.3))\n",
    "test_data = test_data.batch(16)\n",
    "test_data = test_data.prefetch(8)"
   ]
  },
  {
   "cell_type": "markdown",
   "metadata": {},
   "source": [
    "# Model"
   ]
  },
  {
   "cell_type": "markdown",
   "metadata": {},
   "source": [
    "### Embedding layer"
   ]
  },
  {
   "cell_type": "code",
   "execution_count": 134,
   "metadata": {},
   "outputs": [],
   "source": [
    "def make_embedding():\n",
    "    inp = Input(shape=(100,100,3),name = 'input_image')\n",
    "    c1 = Conv2D(64,(10,10),activation='relu')(inp) # 64 filters of 10x10 size and stride  = 1\n",
    "    m1 = MaxPooling2D(64,(2,2),padding='same')(c1)\n",
    "    c2 = Conv2D(128,(7,7),activation='relu')(m1) \n",
    "    m2 = MaxPooling2D(64,(2,2),padding='same')(c2)\n",
    "    c3 = Conv2D(128,(4,4),activation='relu')(m2) \n",
    "    m3 = MaxPooling2D(64,(2,2),padding='same')(c3)\n",
    "    c4 = Conv2D(256,(4,4),activation='relu')(m3)\n",
    "    f1 = Flatten()(c4)\n",
    "    d1 = Dense(4096,activation='sigmoid')(f1)\n",
    "    return Model(inputs=[inp],outputs=[d1],name='embedding')"
   ]
  },
  {
   "cell_type": "code",
   "execution_count": 135,
   "metadata": {},
   "outputs": [
    {
     "name": "stdout",
     "output_type": "stream",
     "text": [
      "Model: \"embedding\"\n",
      "_________________________________________________________________\n",
      " Layer (type)                Output Shape              Param #   \n",
      "=================================================================\n",
      " input_image (InputLayer)    [(None, 100, 100, 3)]     0         \n",
      "                                                                 \n",
      " conv2d_8 (Conv2D)           (None, 91, 91, 64)        19264     \n",
      "                                                                 \n",
      " max_pooling2d_6 (MaxPoolin  (None, 46, 46, 64)        0         \n",
      " g2D)                                                            \n",
      "                                                                 \n",
      " conv2d_9 (Conv2D)           (None, 40, 40, 128)       401536    \n",
      "                                                                 \n",
      " max_pooling2d_7 (MaxPoolin  (None, 20, 20, 128)       0         \n",
      " g2D)                                                            \n",
      "                                                                 \n",
      " conv2d_10 (Conv2D)          (None, 17, 17, 128)       262272    \n",
      "                                                                 \n",
      " max_pooling2d_8 (MaxPoolin  (None, 9, 9, 128)         0         \n",
      " g2D)                                                            \n",
      "                                                                 \n",
      " conv2d_11 (Conv2D)          (None, 6, 6, 256)         524544    \n",
      "                                                                 \n",
      " flatten_2 (Flatten)         (None, 9216)              0         \n",
      "                                                                 \n",
      " dense_4 (Dense)             (None, 4096)              37752832  \n",
      "                                                                 \n",
      "=================================================================\n",
      "Total params: 38960448 (148.62 MB)\n",
      "Trainable params: 38960448 (148.62 MB)\n",
      "Non-trainable params: 0 (0.00 Byte)\n",
      "_________________________________________________________________\n"
     ]
    }
   ],
   "source": [
    "embedding = make_embedding()\n",
    "embedding.summary()"
   ]
  },
  {
   "cell_type": "code",
   "execution_count": 136,
   "metadata": {},
   "outputs": [],
   "source": [
    "# inp = Input(shape=(100,100,3),name = 'input_image')\n",
    "# c1 = Conv2D(64,(10,10),activation='relu')(inp) # 64 filters of 10x10 size and stride  = 1\n",
    "# m1 = MaxPooling2D(64,(2,2),padding='same')(c1)\n",
    "    \n",
    "# c2 = Conv2D(128,(7,7),activation='relu')(m1) \n",
    "# m2 = MaxPooling2D(64,(2,2),padding='same')(c2)\n",
    "    \n",
    "# c3 = Conv2D(128,(4,4),activation='relu')(m2) \n",
    "# m3 = MaxPooling2D(64,(2,2),padding='same')(c3)\n",
    "    \n",
    "# c4 = Conv2D(256,(4,4),activation='relu')(m3)\n",
    "# f1 = Flatten()(c4)\n",
    "# d1 = Dense(4096,activation='sigmoid')(f1)\n",
    "# mod = Model(inputs=[inp],outputs=[d1],name='embedding')\n",
    "# mod.summary()"
   ]
  },
  {
   "cell_type": "markdown",
   "metadata": {},
   "source": [
    "### Built Siamese Neural Network L1 Distance"
   ]
  },
  {
   "cell_type": "code",
   "execution_count": 137,
   "metadata": {},
   "outputs": [],
   "source": [
    "class L1Dist(Layer):\n",
    "    def __init__(self,**kwargs): # makes exporting and importing of this specific part easily\n",
    "        super().__init__()\n",
    "    def call(self,input_embedding,validation_embedding): # loss function types\n",
    "        return tf.math.abs((input_embedding)-(validation_embedding))"
   ]
  },
  {
   "cell_type": "code",
   "execution_count": 138,
   "metadata": {},
   "outputs": [],
   "source": [
    "# l1 = L1Dist()\n",
    "# l1(anchor_embedding,validation_embedding)"
   ]
  },
  {
   "cell_type": "markdown",
   "metadata": {},
   "source": [
    "### All together"
   ]
  },
  {
   "cell_type": "code",
   "execution_count": 139,
   "metadata": {},
   "outputs": [],
   "source": [
    "# input_image = Input(name='input_img', shape=(100,100,3))\n",
    "# validation_image = Input(name='validation_img', shape=(100,100,3))\n",
    "# inp_embedding = embedding(input_image)\n",
    "# val_embedding = embedding(validation_image)\n",
    "# siamese_layer = L1Dist()\n",
    "# distances = siamese_layer(inp_embedding, val_embedding)\n",
    "# classifier = Dense(1, activation='sigmoid')(distances)\n",
    "# # classifier\n",
    "# siamese_network = Model(inputs=[input_image, validation_image], outputs=classifier, name='SiameseNetwork')\n",
    "# siamese_network.summary()"
   ]
  },
  {
   "cell_type": "code",
   "execution_count": 140,
   "metadata": {},
   "outputs": [],
   "source": [
    "def make_siamese_model():\n",
    "    # Anchor image input in the network\n",
    "    input_image = Input(name='input_img', shape=(100,100,3))\n",
    "    \n",
    "    # Validation image in the network \n",
    "    validation_image = Input(name='validation_img', shape=(100,100,3))\n",
    "    \n",
    "    # Combine siamese distance components\n",
    "    siamese_layer = L1Dist()\n",
    "    siamese_layer._name = 'distance'\n",
    "    distances = siamese_layer(embedding(input_image), embedding(validation_image))\n",
    "    \n",
    "    # Classification layer \n",
    "    classifier = Dense(1, activation='sigmoid')(distances)\n",
    "    \n",
    "    return Model(inputs=[input_image, validation_image], outputs=classifier, name='SiameseNetwork')"
   ]
  },
  {
   "cell_type": "code",
   "execution_count": 141,
   "metadata": {},
   "outputs": [
    {
     "name": "stdout",
     "output_type": "stream",
     "text": [
      "Model: \"SiameseNetwork\"\n",
      "__________________________________________________________________________________________________\n",
      " Layer (type)                Output Shape                 Param #   Connected to                  \n",
      "==================================================================================================\n",
      " input_img (InputLayer)      [(None, 100, 100, 3)]        0         []                            \n",
      "                                                                                                  \n",
      " validation_img (InputLayer  [(None, 100, 100, 3)]        0         []                            \n",
      " )                                                                                                \n",
      "                                                                                                  \n",
      " embedding (Functional)      (None, 4096)                 3896044   ['input_img[0][0]',           \n",
      "                                                          8          'validation_img[0][0]']      \n",
      "                                                                                                  \n",
      " distance (L1Dist)           (None, 4096)                 0         ['embedding[0][0]',           \n",
      "                                                                     'embedding[1][0]']           \n",
      "                                                                                                  \n",
      " dense_5 (Dense)             (None, 1)                    4097      ['distance[0][0]']            \n",
      "                                                                                                  \n",
      "==================================================================================================\n",
      "Total params: 38964545 (148.64 MB)\n",
      "Trainable params: 38964545 (148.64 MB)\n",
      "Non-trainable params: 0 (0.00 Byte)\n",
      "__________________________________________________________________________________________________\n"
     ]
    }
   ],
   "source": [
    "siamese_model = make_siamese_model()\n",
    "siamese_model.summary()"
   ]
  },
  {
   "cell_type": "markdown",
   "metadata": {},
   "source": [
    "# Training"
   ]
  },
  {
   "cell_type": "code",
   "execution_count": 142,
   "metadata": {},
   "outputs": [],
   "source": [
    "binary_cross_loss = tf.losses.BinaryCrossentropy()"
   ]
  },
  {
   "cell_type": "code",
   "execution_count": 143,
   "metadata": {},
   "outputs": [
    {
     "name": "stderr",
     "output_type": "stream",
     "text": [
      "WARNING:absl:At this time, the v2.11+ optimizer `tf.keras.optimizers.Adam` runs slowly on M1/M2 Macs, please use the legacy Keras optimizer instead, located at `tf.keras.optimizers.legacy.Adam`.\n"
     ]
    }
   ],
   "source": [
    "opt = tf.keras.optimizers.Adam(1e-4)"
   ]
  },
  {
   "cell_type": "code",
   "execution_count": 144,
   "metadata": {},
   "outputs": [],
   "source": [
    "checkpoint_dir = './training_checkpoints'\n",
    "checkpoint_prefix = os.path.join(checkpoint_dir, 'ckpt')\n",
    "checkpoint = tf.train.Checkpoint(opt=opt, siamese_model=siamese_model)"
   ]
  },
  {
   "cell_type": "code",
   "execution_count": 145,
   "metadata": {},
   "outputs": [],
   "source": [
    "# make prediction\n",
    "# calculate losses\n",
    "# derive gradient\n",
    "# claculate new weighta and apply"
   ]
  },
  {
   "cell_type": "code",
   "execution_count": 146,
   "metadata": {},
   "outputs": [],
   "source": [
    "@tf.function\n",
    "def train_step(batch):\n",
    "    # Record all of our operations \n",
    "    with tf.GradientTape() as tape:     \n",
    "        # Get anchor and positive/negative image\n",
    "        X = batch[:2]\n",
    "        # Get label\n",
    "        y = batch[2]\n",
    "        \n",
    "        # Forward pass\n",
    "        yhat = siamese_model(X, training=True)\n",
    "        # Calculate loss\n",
    "        loss = binary_cross_loss(y, yhat)\n",
    "    print(loss)\n",
    "        \n",
    "    # Calculate gradients\n",
    "    grad = tape.gradient(loss, siamese_model.trainable_variables)\n",
    "    \n",
    "    # Calculate updated weights and apply to siamese model\n",
    "    opt.apply_gradients(zip(grad, siamese_model.trainable_variables))\n",
    "        \n",
    "    # Return loss\n",
    "    return loss"
   ]
  },
  {
   "cell_type": "code",
   "execution_count": 147,
   "metadata": {},
   "outputs": [],
   "source": [
    "def train(data, EPOCHS):\n",
    "    # Loop through epochs\n",
    "    for epoch in range(1, EPOCHS+1):\n",
    "        print('\\n Epoch {}/{}'.format(epoch, EPOCHS))\n",
    "        progbar = tf.keras.utils.Progbar(len(data))\n",
    "        \n",
    "        # Creating a metric object \n",
    "        r = Recall()\n",
    "        p = Precision()\n",
    "        \n",
    "        # Loop through each batch\n",
    "        for idx, batch in enumerate(data):\n",
    "            # Run train step here\n",
    "            loss = train_step(batch)\n",
    "            yhat = siamese_model.predict(batch[:2])\n",
    "            r.update_state(batch[2], yhat)\n",
    "            p.update_state(batch[2], yhat) \n",
    "            progbar.update(idx+1)\n",
    "        print(loss.numpy(), r.result().numpy(), p.result().numpy())\n",
    "        \n",
    "        # Save checkpoints\n",
    "        if epoch % 5 == 0: \n",
    "            checkpoint.save(file_prefix=checkpoint_prefix)"
   ]
  },
  {
   "cell_type": "code",
   "execution_count": 148,
   "metadata": {},
   "outputs": [],
   "source": [
    "EPOCHS = 50\n",
    "# train(train_data, EPOCHS)"
   ]
  },
  {
   "cell_type": "markdown",
   "metadata": {},
   "source": [
    "# Evaluate Model"
   ]
  },
  {
   "cell_type": "code",
   "execution_count": 149,
   "metadata": {},
   "outputs": [],
   "source": [
    "test_input, test_val, y_true = test_data.as_numpy_iterator().next()"
   ]
  },
  {
   "cell_type": "code",
   "execution_count": 150,
   "metadata": {},
   "outputs": [
    {
     "name": "stdout",
     "output_type": "stream",
     "text": [
      "1/1 [==============================] - 2s 2s/step\n"
     ]
    }
   ],
   "source": [
    "y_hat = siamese_model.predict([test_input, test_val])"
   ]
  },
  {
   "cell_type": "code",
   "execution_count": 151,
   "metadata": {},
   "outputs": [
    {
     "data": {
      "text/plain": [
       "[1, 1, 1, 1, 1, 1, 0, 1, 1, 1, 1, 1, 1, 1, 1, 0]"
      ]
     },
     "execution_count": 151,
     "metadata": {},
     "output_type": "execute_result"
    }
   ],
   "source": [
    "[1 if prediction > 0.5 else 0 for prediction in y_hat ]"
   ]
  },
  {
   "cell_type": "code",
   "execution_count": 152,
   "metadata": {},
   "outputs": [
    {
     "data": {
      "text/plain": [
       "array([1., 1., 0., 1., 1., 0., 0., 1., 1., 1., 0., 1., 0., 1., 1., 0.],\n",
       "      dtype=float32)"
      ]
     },
     "execution_count": 152,
     "metadata": {},
     "output_type": "execute_result"
    }
   ],
   "source": [
    "y_true"
   ]
  },
  {
   "cell_type": "code",
   "execution_count": 153,
   "metadata": {},
   "outputs": [
    {
     "data": {
      "text/plain": [
       "1.0"
      ]
     },
     "execution_count": 153,
     "metadata": {},
     "output_type": "execute_result"
    }
   ],
   "source": [
    "# Creating a metric object \n",
    "m = Recall()\n",
    "\n",
    "# Calculating the recall value \n",
    "m.update_state(y_true, y_hat)\n",
    "\n",
    "# Return Recall Result\n",
    "m.result().numpy()"
   ]
  },
  {
   "cell_type": "code",
   "execution_count": 154,
   "metadata": {},
   "outputs": [
    {
     "data": {
      "text/plain": [
       "0.71428573"
      ]
     },
     "execution_count": 154,
     "metadata": {},
     "output_type": "execute_result"
    }
   ],
   "source": [
    "# Creating a metric object\n",
    "m = Precision()\n",
    "\n",
    "# Calculating the recall value\n",
    "m.update_state(y_true, y_hat)\n",
    "\n",
    "# Return Recall Result\n",
    "m.result().numpy()"
   ]
  },
  {
   "cell_type": "code",
   "execution_count": 155,
   "metadata": {},
   "outputs": [
    {
     "name": "stdout",
     "output_type": "stream",
     "text": [
      "1/1 [==============================] - 2s 2s/step\n",
      "1/1 [==============================] - 2s 2s/step\n",
      "1/1 [==============================] - 2s 2s/step\n",
      "1/1 [==============================] - 2s 2s/step\n",
      "1/1 [==============================] - 2s 2s/step\n",
      "1/1 [==============================] - 2s 2s/step\n",
      "1/1 [==============================] - 2s 2s/step\n",
      "1/1 [==============================] - 1s 1s/step\n",
      "1/1 [==============================] - 1s 1s/step\n",
      "1/1 [==============================] - 2s 2s/step\n",
      "1/1 [==============================] - 2s 2s/step\n",
      "1/1 [==============================] - 2s 2s/step\n",
      "1/1 [==============================] - 2s 2s/step\n",
      "1/1 [==============================] - 2s 2s/step\n",
      "1/1 [==============================] - 2s 2s/step\n",
      "1/1 [==============================] - 2s 2s/step\n",
      "1/1 [==============================] - 1s 1s/step\n",
      "1/1 [==============================] - 1s 1s/step\n",
      "1/1 [==============================] - 1s 1s/step\n",
      "1/1 [==============================] - 2s 2s/step\n",
      "1/1 [==============================] - 1s 1s/step\n",
      "1/1 [==============================] - 1s 1s/step\n",
      "1/1 [==============================] - 1s 1s/step\n",
      "1/1 [==============================] - 1s 1s/step\n",
      "1/1 [==============================] - 1s 1s/step\n",
      "1/1 [==============================] - 1s 1s/step\n",
      "1/1 [==============================] - 1s 1s/step\n",
      "1/1 [==============================] - 1s 1s/step\n",
      "1/1 [==============================] - 1s 1s/step\n",
      "1/1 [==============================] - 1s 1s/step\n",
      "1/1 [==============================] - 2s 2s/step\n",
      "1/1 [==============================] - 2s 2s/step\n",
      "1/1 [==============================] - 2s 2s/step\n",
      "1/1 [==============================] - 1s 1s/step\n",
      "0.852349 0.5313808\n"
     ]
    }
   ],
   "source": [
    "r = Recall()\n",
    "p = Precision()\n",
    "\n",
    "for test_input, test_val, y_true in test_data.as_numpy_iterator():\n",
    "    yhat = siamese_model.predict([test_input, test_val])\n",
    "    r.update_state(y_true, yhat)\n",
    "    p.update_state(y_true,yhat) \n",
    "\n",
    "print(r.result().numpy(), p.result().numpy())"
   ]
  },
  {
   "cell_type": "code",
   "execution_count": 156,
   "metadata": {},
   "outputs": [
    {
     "data": {
      "text/plain": [
       "[1, 1, 1, 1, 1, 1, 0, 1, 1, 1, 1, 1, 1, 1, 1, 0]"
      ]
     },
     "execution_count": 156,
     "metadata": {},
     "output_type": "execute_result"
    }
   ],
   "source": [
    "[1 if prediction > 0.5 else 0 for prediction in y_hat ]"
   ]
  },
  {
   "cell_type": "code",
   "execution_count": 176,
   "metadata": {},
   "outputs": [
    {
     "data": {
      "image/png": "[encoded data removed]",
      "text/plain": [
       "<Figure size 1000x800 with 2 Axes>"
      ]
     },
     "metadata": {},
     "output_type": "display_data"
    }
   ],
   "source": [
    "# Set plot size \n",
    "plt.figure(figsize=(10,8))\n",
    "\n",
    "# Set first subplot\n",
    "a = 0\n",
    "plt.subplot(1,2,1)\n",
    "plt.imshow(test_input[a])\n",
    "\n",
    "# Set second subplot\n",
    "plt.subplot(1,2,2)\n",
    "plt.imshow(test_val[a])\n",
    "\n",
    "# Renders cleanly\n",
    "plt.show()"
   ]
  },
  {
   "cell_type": "code",
   "execution_count": 158,
   "metadata": {},
   "outputs": [],
   "source": [
    "# siamese_model.save('Siamese_model_DBC.h5')"
   ]
  },
  {
   "cell_type": "code",
   "execution_count": 177,
   "metadata": {},
   "outputs": [
    {
     "data": {
      "text/plain": [
       "__main__.L1Dist"
      ]
     },
     "execution_count": 177,
     "metadata": {},
     "output_type": "execute_result"
    }
   ],
   "source": [
    "L1Dist"
   ]
  },
  {
   "cell_type": "code",
   "execution_count": 160,
   "metadata": {},
   "outputs": [
    {
     "name": "stdout",
     "output_type": "stream",
     "text": [
      "WARNING:tensorflow:No training configuration found in the save file, so the model was *not* compiled. Compile it manually.\n"
     ]
    },
    {
     "name": "stderr",
     "output_type": "stream",
     "text": [
      "WARNING:tensorflow:No training configuration found in the save file, so the model was *not* compiled. Compile it manually.\n"
     ]
    }
   ],
   "source": [
    "siamese_model = tf.keras.models.load_model('Siamese_model_DBC.h5',custom_objects={'L1Dist':L1Dist, 'BinaryCrossentropy':tf.losses.BinaryCrossentropy})"
   ]
  },
  {
   "cell_type": "code",
   "execution_count": 161,
   "metadata": {},
   "outputs": [
    {
     "name": "stdout",
     "output_type": "stream",
     "text": [
      "1/1 [==============================] - 1s 1s/step\n",
      "Model: \"SiameseNetwork\"\n",
      "__________________________________________________________________________________________________\n",
      " Layer (type)                Output Shape                 Param #   Connected to                  \n",
      "==================================================================================================\n",
      " input_img (InputLayer)      [(None, 100, 100, 3)]        0         []                            \n",
      "                                                                                                  \n",
      " validation_img (InputLayer  [(None, 100, 100, 3)]        0         []                            \n",
      " )                                                                                                \n",
      "                                                                                                  \n",
      " embedding (Functional)      (None, 4096)                 3896044   ['input_img[0][0]',           \n",
      "                                                          8          'validation_img[0][0]']      \n",
      "                                                                                                  \n",
      " l1_dist_5 (L1Dist)          (None, 4096)                 0         ['embedding[0][0]',           \n",
      "                                                                     'embedding[1][0]']           \n",
      "                                                                                                  \n",
      " dense_1 (Dense)             (None, 1)                    4097      ['l1_dist_5[0][0]']           \n",
      "                                                                                                  \n",
      "==================================================================================================\n",
      "Total params: 38964545 (148.64 MB)\n",
      "Trainable params: 38964545 (148.64 MB)\n",
      "Non-trainable params: 0 (0.00 Byte)\n",
      "__________________________________________________________________________________________________\n"
     ]
    }
   ],
   "source": [
    "siamese_model.predict([test_input,test_val])\n",
    "siamese_model.summary()"
   ]
  },
  {
   "cell_type": "code",
   "execution_count": 162,
   "metadata": {},
   "outputs": [],
   "source": [
    "# os.listdir(os.path.join('application_data', 'verification_images'))"
   ]
  },
  {
   "cell_type": "code",
   "execution_count": 163,
   "metadata": {},
   "outputs": [],
   "source": [
    "# os.path.join('application_data', 'input_image', 'input_image.jpg')"
   ]
  },
  {
   "cell_type": "code",
   "execution_count": 164,
   "metadata": {},
   "outputs": [],
   "source": [
    "# for image in os.listdir(os.path.join('application_data', 'verification_images')):\n",
    "#     validation_img = os.path.join('application_data', 'verification_images', image)\n",
    "#     print(validation_img)"
   ]
  },
  {
   "cell_type": "code",
   "execution_count": 165,
   "metadata": {},
   "outputs": [],
   "source": [
    "# for count in range(186):\n",
    "#     print(count)"
   ]
  },
  {
   "cell_type": "code",
   "execution_count": 166,
   "metadata": {},
   "outputs": [],
   "source": [
    "# for image in os.listdir(os.path.join('application_data','verification_images')):\n",
    "#     print(image)\n"
   ]
  },
  {
   "cell_type": "code",
   "execution_count": 167,
   "metadata": {},
   "outputs": [],
   "source": [
    "def verify(model, detection_threshold, verification_threshold):\n",
    "    #d = {'amisha': 0, 'atish': 0, 'ayush': 0, 'balaji': 0, 'manish': 0, 'misbah': 0, 'raja': 0, 'vatsal': 0}\n",
    "    d_name = {'Dev':[], 'Bhumi': [], 'Chirag': []}\n",
    "    d_verify = {'Dev': False, 'Bhumi': False, 'Chirag': False}\n",
    "    for image in os.listdir(os.path.join('application_data','verification')):\n",
    "        #input_image.jpg naam hai file ka that is captuerd from the webcam it could be changed\n",
    "        input_img = preprocess(os.path.join('application_data', 'input_data', 'input_image.jpg'))\n",
    "        validation_img = preprocess(os.path.join('application_data','verification', image))\n",
    "        # Make Predictions\n",
    "        result = model.predict(list(np.expand_dims([input_img, validation_img], axis=1)))\n",
    "        # result = model.predict([input_img, validation_img])\n",
    "        #extracting name of verification images\n",
    "        \n",
    "        L = image.split(\"_\")\n",
    "        #results.append(result)\n",
    "        d_name[L[0]].append(result)\n",
    "# need to run a loop for all people jinka data hai for the below operations\n",
    "\n",
    "\n",
    "    for i in d_name:\n",
    "        length = 0\n",
    "        detection = np.sum(np.array(d_name[i]) > detection_threshold)\n",
    "        # verification = detection / len(os.listdir(os.path.join('classify', 'verification')))\n",
    "        for photo in os.listdir(os.path.join('application_data', 'verification')):\n",
    "            L = photo.split(\"_\")\n",
    "            if (L[0]==i):\n",
    "                length+=1\n",
    "        verification = detection / length\n",
    "        #the length above check karne ka loop hai because multiple people ki images hai\n",
    "        d_verify[i] = verification < verification_threshold\n",
    "\n",
    "    #return results, verified\n",
    "    return d_name, d_verify\n"
   ]
  },
  {
   "cell_type": "code",
   "execution_count": 168,
   "metadata": {},
   "outputs": [],
   "source": [
    "def classify(model, detection_threshold, verification_threshold):\n",
    "    #d = {'amisha': 0, 'atish': 0, 'ayush': 0, 'balaji': 0, 'manish': 0, 'misbah': 0, 'raja': 0, 'vatsal': 0}\n",
    "    d_name = {'Dev':[], 'Bhumi': [], 'Chirag': []}\n",
    "    d_verify = {'Dev': False, 'Bhumi': False, 'Chirag': False}\n",
    "    for image in os.listdir(os.path.join('application_data','verification')):\n",
    "        #input_image.jpg naam hai file ka that is captuerd from the webcam it could be changed\n",
    "        input_img = preprocess(os.path.join('application_data', 'input', 'input_image.jpg'))\n",
    "        validation_img = preprocess(os.path.join('application_data','verification', image))\n",
    "        # Make Predictions\n",
    "        result = model.predict(list(np.expand_dims([input_img, validation_img], axis=1)))\n",
    "        # result = model.predict([input_img, validation_img])\n",
    "        #extracting name of verification images\n",
    "        \n",
    "        L = image.split(\"_\")\n",
    "        #results.append(result)\n",
    "        d_name[L[0]].append(result)\n",
    "# need to run a loop for all people jinka data hai for the below operations\n",
    "\n",
    "\n",
    "    for i in d_name:\n",
    "        length = 0\n",
    "        detection = np.sum(np.array(d_name[i]) > detection_threshold)\n",
    "        # verification = detection / len(os.listdir(os.path.join('application_data', 'verification')))\n",
    "        for photo in os.listdir(os.path.join('application_data', 'verification')):\n",
    "            L = photo.split(\"_\")\n",
    "            if (L[0]==i):\n",
    "                length+=1\n",
    "        verification = detection / length\n",
    "        #the length above check karne ka loop hai because multiple people ki images hai\n",
    "        d_verify[i] = verification < verification_threshold\n",
    "\n",
    "    #return results, verified\n",
    "    return d_name, d_verify\n"
   ]
  },
  {
   "cell_type": "code",
   "execution_count": 169,
   "metadata": {},
   "outputs": [
    {
     "name": "stderr",
     "output_type": "stream",
     "text": [
      "2023-08-27 15:11:58.021499: W tensorflow/core/framework/op_kernel.cc:1828] OP_REQUIRES failed at whole_file_read_ops.cc:116 : NOT_FOUND: application_data/input/input_image.jpg; No such file or directory\n"
     ]
    },
    {
     "ename": "NotFoundError",
     "evalue": "{{function_node __wrapped__ReadFile_device_/job:localhost/replica:0/task:0/device:CPU:0}} application_data/input/input_image.jpg; No such file or directory [Op:ReadFile]",
     "output_type": "error",
     "traceback": [
      "\u001b[0;31m---------------------------------------------------------------------------\u001b[0m",
      "\u001b[0;31mNotFoundError\u001b[0m                             Traceback (most recent call last)",
      "Cell \u001b[0;32mIn[169], line 1\u001b[0m\n\u001b[0;32m----> 1\u001b[0m d_result, d_verify \u001b[39m=\u001b[39m classify(siamese_model,\u001b[39m0.5\u001b[39;49m,\u001b[39m0.999999\u001b[39;49m)\n\u001b[1;32m      2\u001b[0m d_verify\n",
      "Cell \u001b[0;32mIn[168], line 7\u001b[0m, in \u001b[0;36mclassify\u001b[0;34m(model, detection_threshold, verification_threshold)\u001b[0m\n\u001b[1;32m      4\u001b[0m d_verify \u001b[39m=\u001b[39m {\u001b[39m'\u001b[39m\u001b[39mDev\u001b[39m\u001b[39m'\u001b[39m: \u001b[39mFalse\u001b[39;00m, \u001b[39m'\u001b[39m\u001b[39mBhumi\u001b[39m\u001b[39m'\u001b[39m: \u001b[39mFalse\u001b[39;00m, \u001b[39m'\u001b[39m\u001b[39mChirag\u001b[39m\u001b[39m'\u001b[39m: \u001b[39mFalse\u001b[39;00m}\n\u001b[1;32m      5\u001b[0m \u001b[39mfor\u001b[39;00m image \u001b[39min\u001b[39;00m os\u001b[39m.\u001b[39mlistdir(os\u001b[39m.\u001b[39mpath\u001b[39m.\u001b[39mjoin(\u001b[39m'\u001b[39m\u001b[39mapplication_data\u001b[39m\u001b[39m'\u001b[39m,\u001b[39m'\u001b[39m\u001b[39mverification\u001b[39m\u001b[39m'\u001b[39m)):\n\u001b[1;32m      6\u001b[0m     \u001b[39m#input_image.jpg naam hai file ka that is captuerd from the webcam it could be changed\u001b[39;00m\n\u001b[0;32m----> 7\u001b[0m     input_img \u001b[39m=\u001b[39m preprocess(os\u001b[39m.\u001b[39;49mpath\u001b[39m.\u001b[39;49mjoin(\u001b[39m'\u001b[39;49m\u001b[39mapplication_data\u001b[39;49m\u001b[39m'\u001b[39;49m, \u001b[39m'\u001b[39;49m\u001b[39minput\u001b[39;49m\u001b[39m'\u001b[39;49m, \u001b[39m'\u001b[39;49m\u001b[39minput_image.jpg\u001b[39;49m\u001b[39m'\u001b[39;49m))\n\u001b[1;32m      8\u001b[0m     validation_img \u001b[39m=\u001b[39m preprocess(os\u001b[39m.\u001b[39mpath\u001b[39m.\u001b[39mjoin(\u001b[39m'\u001b[39m\u001b[39mapplication_data\u001b[39m\u001b[39m'\u001b[39m,\u001b[39m'\u001b[39m\u001b[39mverification\u001b[39m\u001b[39m'\u001b[39m, image))\n\u001b[1;32m      9\u001b[0m     \u001b[39m# Make Predictions\u001b[39;00m\n",
      "Cell \u001b[0;32mIn[122], line 2\u001b[0m, in \u001b[0;36mpreprocess\u001b[0;34m(file_path)\u001b[0m\n\u001b[1;32m      1\u001b[0m \u001b[39mdef\u001b[39;00m \u001b[39mpreprocess\u001b[39m (file_path):\n\u001b[0;32m----> 2\u001b[0m     byte_img\u001b[39m=\u001b[39m tf\u001b[39m.\u001b[39;49mio\u001b[39m.\u001b[39;49mread_file(file_path) \u001b[39m# read\u001b[39;00m\n\u001b[1;32m      3\u001b[0m     img \u001b[39m=\u001b[39m tf\u001b[39m.\u001b[39mio\u001b[39m.\u001b[39mdecode_jpeg(byte_img)   \u001b[39m# Loading image\u001b[39;00m\n\u001b[1;32m      4\u001b[0m     img\u001b[39m=\u001b[39m tf\u001b[39m.\u001b[39mimage\u001b[39m.\u001b[39mresize(img,(\u001b[39m100\u001b[39m,\u001b[39m100\u001b[39m))\n",
      "File \u001b[0;32m/Library/Frameworks/Python.framework/Versions/3.11/lib/python3.11/site-packages/tensorflow/python/ops/io_ops.py:133\u001b[0m, in \u001b[0;36mread_file\u001b[0;34m(filename, name)\u001b[0m\n\u001b[1;32m     96\u001b[0m \u001b[39m@tf_export\u001b[39m(\u001b[39m\"\u001b[39m\u001b[39mio.read_file\u001b[39m\u001b[39m\"\u001b[39m, v1\u001b[39m=\u001b[39m[\u001b[39m\"\u001b[39m\u001b[39mio.read_file\u001b[39m\u001b[39m\"\u001b[39m, \u001b[39m\"\u001b[39m\u001b[39mread_file\u001b[39m\u001b[39m\"\u001b[39m])\n\u001b[1;32m     97\u001b[0m \u001b[39mdef\u001b[39;00m \u001b[39mread_file\u001b[39m(filename, name\u001b[39m=\u001b[39m\u001b[39mNone\u001b[39;00m):\n\u001b[1;32m     98\u001b[0m \u001b[39m  \u001b[39m\u001b[39m\"\"\"Reads the contents of file.\u001b[39;00m\n\u001b[1;32m     99\u001b[0m \n\u001b[1;32m    100\u001b[0m \u001b[39m  This operation returns a tensor with the entire contents of the input\u001b[39;00m\n\u001b[0;32m   (...)\u001b[0m\n\u001b[1;32m    131\u001b[0m \u001b[39m    A tensor of dtype \"string\", with the file contents.\u001b[39;00m\n\u001b[1;32m    132\u001b[0m \u001b[39m  \"\"\"\u001b[39;00m\n\u001b[0;32m--> 133\u001b[0m   \u001b[39mreturn\u001b[39;00m gen_io_ops\u001b[39m.\u001b[39;49mread_file(filename, name)\n",
      "File \u001b[0;32m/Library/Frameworks/Python.framework/Versions/3.11/lib/python3.11/site-packages/tensorflow/python/ops/gen_io_ops.py:582\u001b[0m, in \u001b[0;36mread_file\u001b[0;34m(filename, name)\u001b[0m\n\u001b[1;32m    580\u001b[0m   \u001b[39mpass\u001b[39;00m\n\u001b[1;32m    581\u001b[0m \u001b[39mtry\u001b[39;00m:\n\u001b[0;32m--> 582\u001b[0m   \u001b[39mreturn\u001b[39;00m read_file_eager_fallback(\n\u001b[1;32m    583\u001b[0m       filename, name\u001b[39m=\u001b[39;49mname, ctx\u001b[39m=\u001b[39;49m_ctx)\n\u001b[1;32m    584\u001b[0m \u001b[39mexcept\u001b[39;00m _core\u001b[39m.\u001b[39m_SymbolicException:\n\u001b[1;32m    585\u001b[0m   \u001b[39mpass\u001b[39;00m  \u001b[39m# Add nodes to the TensorFlow graph.\u001b[39;00m\n",
      "File \u001b[0;32m/Library/Frameworks/Python.framework/Versions/3.11/lib/python3.11/site-packages/tensorflow/python/ops/gen_io_ops.py:605\u001b[0m, in \u001b[0;36mread_file_eager_fallback\u001b[0;34m(filename, name, ctx)\u001b[0m\n\u001b[1;32m    603\u001b[0m _inputs_flat \u001b[39m=\u001b[39m [filename]\n\u001b[1;32m    604\u001b[0m _attrs \u001b[39m=\u001b[39m \u001b[39mNone\u001b[39;00m\n\u001b[0;32m--> 605\u001b[0m _result \u001b[39m=\u001b[39m _execute\u001b[39m.\u001b[39;49mexecute(\u001b[39mb\u001b[39;49m\u001b[39m\"\u001b[39;49m\u001b[39mReadFile\u001b[39;49m\u001b[39m\"\u001b[39;49m, \u001b[39m1\u001b[39;49m, inputs\u001b[39m=\u001b[39;49m_inputs_flat,\n\u001b[1;32m    606\u001b[0m                            attrs\u001b[39m=\u001b[39;49m_attrs, ctx\u001b[39m=\u001b[39;49mctx, name\u001b[39m=\u001b[39;49mname)\n\u001b[1;32m    607\u001b[0m \u001b[39mif\u001b[39;00m _execute\u001b[39m.\u001b[39mmust_record_gradient():\n\u001b[1;32m    608\u001b[0m   _execute\u001b[39m.\u001b[39mrecord_gradient(\n\u001b[1;32m    609\u001b[0m       \u001b[39m\"\u001b[39m\u001b[39mReadFile\u001b[39m\u001b[39m\"\u001b[39m, _inputs_flat, _attrs, _result)\n",
      "File \u001b[0;32m/Library/Frameworks/Python.framework/Versions/3.11/lib/python3.11/site-packages/tensorflow/python/eager/execute.py:53\u001b[0m, in \u001b[0;36mquick_execute\u001b[0;34m(op_name, num_outputs, inputs, attrs, ctx, name)\u001b[0m\n\u001b[1;32m     51\u001b[0m \u001b[39mtry\u001b[39;00m:\n\u001b[1;32m     52\u001b[0m   ctx\u001b[39m.\u001b[39mensure_initialized()\n\u001b[0;32m---> 53\u001b[0m   tensors \u001b[39m=\u001b[39m pywrap_tfe\u001b[39m.\u001b[39;49mTFE_Py_Execute(ctx\u001b[39m.\u001b[39;49m_handle, device_name, op_name,\n\u001b[1;32m     54\u001b[0m                                       inputs, attrs, num_outputs)\n\u001b[1;32m     55\u001b[0m \u001b[39mexcept\u001b[39;00m core\u001b[39m.\u001b[39m_NotOkStatusException \u001b[39mas\u001b[39;00m e:\n\u001b[1;32m     56\u001b[0m   \u001b[39mif\u001b[39;00m name \u001b[39mis\u001b[39;00m \u001b[39mnot\u001b[39;00m \u001b[39mNone\u001b[39;00m:\n",
      "\u001b[0;31mNotFoundError\u001b[0m: {{function_node __wrapped__ReadFile_device_/job:localhost/replica:0/task:0/device:CPU:0}} application_data/input/input_image.jpg; No such file or directory [Op:ReadFile]"
     ]
    }
   ],
   "source": [
    "d_result, d_verify = classify(siamese_model,0.5,0.999999)\n",
    "d_verify"
   ]
  },
  {
   "cell_type": "code",
   "execution_count": null,
   "metadata": {},
   "outputs": [],
   "source": [
    "# def verify(model, detection_threshold, verification_threshold):\n",
    "#     # Build results array\n",
    "#     count = 0\n",
    "#     results = []\n",
    "#     i=0\n",
    "#     for image in os.listdir(os.path.join('application_data','verification_images')):\n",
    "#         if (count<=62 and count>=0):\n",
    "#             input_img = preprocess(os.path.join('application_data','input_image','input_image.jpg'))\n",
    "#             validation_img = preprocess(os.path.join('application_data','verification_images',image))\n",
    "#             result = model.predict(list(np.expand_dims([input_img,validation_img], axis=1)))\n",
    "#             if(result < detection_threshold):\n",
    "#                 results[0]+=1\n",
    "#             count+=1\n",
    "#         elif (count<=124 and count>=63):\n",
    "#             input_img = preprocess(os.path.join('application_data','input_image','input_image.jpg'))\n",
    "#             validation_img = preprocess(os.path.join('application_data','verification_images',image))\n",
    "#             result = model.predict(list(np.expand_dims([input_img,validation_img], axis=1)))\n",
    "#             if(result < detection_threshold):\n",
    "#                 results[1]+=1\n",
    "#             count+=1\n",
    "#         elif (count<=186 and count>=125):\n",
    "#             input_img = preprocess(os.path.join('application_data','input_image','input_image.jpg'))\n",
    "#             validation_img = preprocess(os.path.join('application_data','verification_images',image))\n",
    "#             result = model.predict(list(np.expand_dims([input_img,validation_img], axis=1)))\n",
    "#             if(result < detection_threshold):\n",
    "#                 results[2]+=1\n",
    "#             count+=1\n",
    "    \n",
    "#     # Detection Threshold: Metric above which a prediciton is considered positive \n",
    "#     # detection = np.sum(np.array(results) > detection_threshold)\n",
    "    \n",
    "#     # Verification Threshold: Proportion of positive predictions / total positive samples \n",
    "#     # verification = detection / len(os.listdir(os.path.join('application_data', 'verification_images'))) \n",
    "#     # verified = verification > verification_threshold\n",
    "#     max = 0\n",
    "#     for i in len(results):\n",
    "#         if max < results[i]:\n",
    "#             n = i\n",
    "#         else:\n",
    "#             continue\n",
    "#     return results , n"
   ]
  },
  {
   "cell_type": "code",
   "execution_count": null,
   "metadata": {},
   "outputs": [],
   "source": [
    "# d_result, d_verify = verify(siamese_model,0.5,0.999999999)\n",
    "# d_verify"
   ]
  },
  {
   "cell_type": "code",
   "execution_count": null,
   "metadata": {},
   "outputs": [],
   "source": [
    "# d_verify"
   ]
  },
  {
   "cell_type": "code",
   "execution_count": null,
   "metadata": {},
   "outputs": [],
   "source": [
    "# cap = cv2.VideoCapture(0)\n",
    "# while cap.isOpened():\n",
    "#     ret, frame = cap.read()\n",
    "#     frame = frame[235:235+250,515:250+515]\n",
    "    \n",
    "#     cv2.imshow('Verification', frame)\n",
    "    \n",
    "#     # Verification trigger\n",
    "#     if cv2.waitKey(10) & 0xFF == ord('v'):\n",
    "#         # Save input image to application_data/input_image folder \n",
    "# #         hsv = cv2.cvtColor(frame, cv2.COLOR_BGR2HSV)\n",
    "# #         h, s, v = cv2.split(hsv)\n",
    "\n",
    "# #         lim = 255 - 10\n",
    "# #         v[v > lim] = 255\n",
    "# #         v[v <= lim] -= 10\n",
    "        \n",
    "# #         final_hsv = cv2.merge((h, s, v))\n",
    "# #         img = cv2.cvtColor(final_hsv, cv2.COLOR_HSV2BGR)\n",
    "\n",
    "#         cv2.imwrite(os.path.join('application_data', 'input_image', 'input_image.jpg'), frame)\n",
    "#         # Run verification\n",
    "#         results, verified = verify(siamese_model, 0.5, 0.5)\n",
    "#         print(verified)\n",
    "    \n",
    "#     if cv2.waitKey(10) & 0xFF == ord('q'):\n",
    "#         break\n",
    "# cap.release()\n",
    "# cv2.destroyAllWindows()"
   ]
  },
  {
   "cell_type": "code",
   "execution_count": null,
   "metadata": {},
   "outputs": [],
   "source": [
    "# np.sum(np.squeeze(results) > 0.9)"
   ]
  }
 ],
 "metadata": {
  "kernelspec": {
   "display_name": "Python 3",
   "language": "python",
   "name": "python3"
  },
  "language_info": {
   "codemirror_mode": {
    "name": "ipython",
    "version": 3
   },
   "file_extension": ".py",
   "mimetype": "text/x-python",
   "name": "python",
   "nbconvert_exporter": "python",
   "pygments_lexer": "ipython3",
   "version": "3.11.3"
  },
  "orig_nbformat": 4
 },
 "nbformat": 4,
 "nbformat_minor": 2
}
